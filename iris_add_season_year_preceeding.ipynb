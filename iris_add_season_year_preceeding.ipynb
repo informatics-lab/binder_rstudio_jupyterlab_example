{
 "cells": [
  {
   "cell_type": "markdown",
   "id": "3a5a8a3a-ab29-48c6-84ad-39ec98018a41",
   "metadata": {},
   "source": [
    "# Adjust `iris.coord_categorization.add_season_year()` to use the initial month's year as the season year rather than the last month's year"
   ]
  },
  {
   "cell_type": "code",
   "execution_count": 1,
   "id": "85e4db43-3092-46fa-9713-a6a9e8ce8058",
   "metadata": {},
   "outputs": [],
   "source": [
    "import iris"
   ]
  },
  {
   "cell_type": "code",
   "execution_count": 6,
   "id": "02327d07-11dc-468a-8a9a-d16ac0f02957",
   "metadata": {},
   "outputs": [
    {
     "data": {
      "text/plain": [
       "'3.2.1'"
      ]
     },
     "execution_count": 6,
     "metadata": {},
     "output_type": "execute_result"
    }
   ],
   "source": [
    "iris.__version__"
   ]
  },
  {
   "cell_type": "code",
   "execution_count": null,
   "id": "7a992369-8a9a-4241-9119-b4a082b603a1",
   "metadata": {},
   "outputs": [],
   "source": [
    "def add_season_year_preceeding(\n",
    "    cube, coord, name=\"season_year\", seasons=(\"djf\", \"mam\", \"jja\", \"son\")\n",
    "):\n",
    "    \"\"\"\n",
    "    Add a categorical year-of-season coordinate, with user specified\n",
    "    seasons.\n",
    "    Args:\n",
    "    * cube (:class:`iris.cube.Cube`):\n",
    "        The cube containing 'coord'. The new coord will be added into\n",
    "        it.\n",
    "    * coord (:class:`iris.coords.Coord` or string):\n",
    "        Coordinate in 'cube', or its name, representing time.\n",
    "    Kwargs:\n",
    "    * name (string):\n",
    "        Name of the created coordinate. Defaults to \"season_year\".\n",
    "    * seasons (:class:`list` of strings):\n",
    "        List of seasons defined by month abbreviations. Each month must\n",
    "        appear once and only once. Defaults to standard meteorological\n",
    "        seasons ('djf', 'mam', 'jja', 'son').\n",
    "    \"\"\"\n",
    "    # Check that the seasons are valid.\n",
    "    iris.iris.coord_categorisation._validate_seasons(seasons)\n",
    "    # Define the adjustments to be made to the year.\n",
    "    # month_year_adjusts = _month_year_adjusts(seasons)\n",
    "\n",
    "    # Define a categorisation function.\n",
    "    def _season_year(coord, value):\n",
    "        dt = iris.coord_categorisation._pt_date(coord, value)\n",
    "        year = dt.year\n",
    "        # year += month_year_adjusts[dt.month]\n",
    "        return year\n",
    "\n",
    "    # Apply the categorisation.\n",
    "    iris.coord_categorisation.add_categorised_coord(cube, name, coord, _season_year)"
   ]
  }
 ],
 "metadata": {
  "kernelspec": {
   "display_name": "Python 3 (ipykernel)",
   "language": "python",
   "name": "python3"
  },
  "language_info": {
   "codemirror_mode": {
    "name": "ipython",
    "version": 3
   },
   "file_extension": ".py",
   "mimetype": "text/x-python",
   "name": "python",
   "nbconvert_exporter": "python",
   "pygments_lexer": "ipython3",
   "version": "3.9.12"
  }
 },
 "nbformat": 4,
 "nbformat_minor": 5
}
