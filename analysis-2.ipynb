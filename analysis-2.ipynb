{
 "cells": [
  {
   "cell_type": "markdown",
   "id": "48da2650-d345-42e7-89ee-a7acaa96fb6a",
   "metadata": {
    "tags": []
   },
   "source": [
    "# Analysis 2: Plot linear regressions of data in `data/` using tidyverse and ggplot2"
   ]
  },
  {
   "cell_type": "code",
   "execution_count": null,
   "id": "96550aa8-2106-418c-ade5-0fa7ba31afe4",
   "metadata": {},
   "outputs": [],
   "source": [
    "options(warn=-1)"
   ]
  },
  {
   "cell_type": "code",
   "execution_count": null,
   "id": "3e98d784-79cc-4208-93f1-5abbfc6b701c",
   "metadata": {},
   "outputs": [],
   "source": [
    "library(tidyverse)\n",
    "library(ggplot2)\n",
    "library(patchwork)"
   ]
  },
  {
   "cell_type": "code",
   "execution_count": null,
   "id": "44c2cdf3-8491-47b9-b651-e283afaabb45",
   "metadata": {},
   "outputs": [],
   "source": [
    "indir = 'data/'\n",
    "\n",
    "fname_1 = 'Sep2021_Liaoning_data.csv'\n",
    "fname_2 = 'Sep2021_Jilin_data.csv'\n",
    "fname_3 = 'Sep2021_Heilongjiang_data.csv'\n",
    "\n",
    "provs = c(\"Liaoning\", \"Jilin\", \"Heilongjiang\")\n",
    "\n",
    "yield_1 = read.csv(paste(indir,fname_1, sep=\"\"), header = TRUE,sep = \",\", stringsAsFactors = FALSE)\n",
    "yield_2 = read.csv(paste(indir,fname_2, sep=\"\"), header = TRUE,sep = \",\", stringsAsFactors = FALSE)\n",
    "yield_3 = read.csv(paste(indir,fname_3, sep=\"\"), header = TRUE,sep = \",\", stringsAsFactors = FALSE)\n"
   ]
  },
  {
   "cell_type": "code",
   "execution_count": null,
   "id": "2cd775f3-e545-4091-b3cf-e96d03af7391",
   "metadata": {},
   "outputs": [],
   "source": [
    "scatter_trend_plot = function(data, x, y, title, xlab=\"var\", ylab=\"Normalised maize yield\", method=lm) {\n",
    "  plot = ggplot(data=data, aes(x={{x}}, y={{y}})) +\n",
    "    geom_point() +\n",
    "    geom_smooth(method={{method}}) +\n",
    "    labs(title=title, x=xlab, y=ylab)\n",
    "  return(plot)\n",
    "}"
   ]
  },
  {
   "cell_type": "code",
   "execution_count": null,
   "id": "cf05e50f-c7da-4cfa-b9c9-3828a79e3314",
   "metadata": {},
   "outputs": [],
   "source": [
    "ljun = scatter_trend_plot(data=yield_1, \n",
    "                          x=Jun.T, \n",
    "                          y=Maize.yield.anomaly, \n",
    "                          title=provs[1], \n",
    "                          xlab=\"June Temperature / degrees C\",)\n",
    "ljul = scatter_trend_plot(data=yield_1, \n",
    "                          x=Jul.T, \n",
    "                          y=Maize.yield.anomaly, \n",
    "                          title=provs[1], \n",
    "                          xlab=\"July Temperature / degrees C\",)\n",
    "laug = scatter_trend_plot(data=yield_1, \n",
    "                          x=Aug.T, \n",
    "                          y=Maize.yield.anomaly, \n",
    "                          title=provs[1], \n",
    "                          xlab=\"August Temperature / degrees C\",)\n",
    "jjun = scatter_trend_plot(data=yield_2, \n",
    "                          x=Jun.T, \n",
    "                          y=Maize.yield.anomaly, \n",
    "                          title=provs[2], \n",
    "                          xlab=\"June Temperature / degrees C\",)\n",
    "jjul = scatter_trend_plot(data=yield_2, \n",
    "                          x=Jul.T, \n",
    "                          y=Maize.yield.anomaly, \n",
    "                          title=provs[2], \n",
    "                          xlab=\"July Temperature / degrees C\",)\n",
    "jaug = scatter_trend_plot(data=yield_2, \n",
    "                          x=Aug.T, \n",
    "                          y=Maize.yield.anomaly, \n",
    "                          title=provs[2], \n",
    "                          xlab=\"August Temperature / degrees C\",)\n",
    "hjun = scatter_trend_plot(data=yield_3, \n",
    "                          x=Jun.T, \n",
    "                          y=Maize.yield.anomaly, \n",
    "                          title=provs[3], \n",
    "                          xlab=\"June Temperature / degrees C\",)\n",
    "hjul = scatter_trend_plot(data=yield_3, \n",
    "                          x=Jul.T, \n",
    "                          y=Maize.yield.anomaly, \n",
    "                          title=provs[3], \n",
    "                          xlab=\"July Temperature / degrees C\",)\n",
    "haug = scatter_trend_plot(data=yield_3, \n",
    "                          x=Aug.T, \n",
    "                          y=Maize.yield.anomaly, \n",
    "                          title=provs[3],\n",
    "                          xlab=\"July Temperature / degrees C\",)"
   ]
  },
  {
   "cell_type": "code",
   "execution_count": null,
   "id": "47bcb58c-e337-4da1-9192-132f4fd10c08",
   "metadata": {},
   "outputs": [],
   "source": [
    "(ljun+ljul+laug)/(jjun+jjul+jaug)/(hjun+hjul+haug)"
   ]
  }
 ],
 "metadata": {
  "kernelspec": {
   "display_name": "R",
   "language": "R",
   "name": "ir"
  },
  "language_info": {
   "codemirror_mode": "r",
   "file_extension": ".r",
   "mimetype": "text/x-r-source",
   "name": "R",
   "pygments_lexer": "r",
   "version": "4.0.5"
  }
 },
 "nbformat": 4,
 "nbformat_minor": 5
}
